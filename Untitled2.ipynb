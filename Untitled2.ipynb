{
  "nbformat": 4,
  "nbformat_minor": 0,
  "metadata": {
    "colab": {
      "provenance": [],
      "authorship_tag": "ABX9TyMJzoHsQ+misBs1O8aBRi+5",
      "include_colab_link": true
    },
    "kernelspec": {
      "name": "python3",
      "display_name": "Python 3"
    },
    "language_info": {
      "name": "python"
    }
  },
  "cells": [
    {
      "cell_type": "markdown",
      "metadata": {
        "id": "view-in-github",
        "colab_type": "text"
      },
      "source": [
        "<a href=\"https://colab.research.google.com/github/Leozinmmp/Exercicio-1/blob/main/Untitled2.ipynb\" target=\"_parent\"><img src=\"https://colab.research.google.com/assets/colab-badge.svg\" alt=\"Open In Colab\"/></a>"
      ]
    },
    {
      "cell_type": "code",
      "execution_count": 12,
      "metadata": {
        "colab": {
          "base_uri": "https://localhost:8080/"
        },
        "id": "TrmJ1OHSMSnv",
        "outputId": "e67c791d-b09a-41eb-e30c-a7f2c8264086"
      },
      "outputs": [
        {
          "output_type": "stream",
          "name": "stdout",
          "text": [
            "Digite seu nome: leo\n",
            "Digite seu ano de nascimento: 2006\n",
            "Qual sua escolaridade: Ensino_medio_compelto, Ensino_Superior_compelto ou Nenhum?Ensino_medio_completo\n",
            "Escolha 3 opções de cursos superiores: Engenharia Civil, Psicologia, Ciencia da computação, Medicina Veterinaria, Administração de Empresas\n"
          ]
        }
      ],
      "source": [
        "seu_nome = input(\"Digite seu nome: \")\n",
        "ano_nascimento = int(input(\"Digite seu ano de nascimento: \"))\n",
        "idade = 2024 - ano_nascimento\n",
        "if idade < 17:\n",
        "  print(\"Você não pode continuar\")\n",
        "elif idade > 17:\n",
        "  escolha = input(\"Qual sua escolaridade: Ensino_medio_compelto, Ensino_Superior_compelto ou Nenhum?\")\n",
        "  if escolha == \"Ensino_medio_completo\":\n",
        "    print(\"Escolha 3 opções de cursos superiores: Engenharia Civil, Psicologia, Ciencia da computação, Medicina Veterinaria, Administração de Empresas\")\n",
        "  elif escolha == \"Ensino_Superior_completo\":\n",
        "    print(\"Escola 3 opções de pós graduação: Mestrado em Gestão de Projetos, Especialização em Direito Ambiental, MBA em Marketing Digital, Especialização em Neurociência Clínica, Mestrado em Educação Inclusiva\")\n",
        "  else:\n",
        "    print(\"Você não pode continuar\")"
      ]
    }
  ]
}