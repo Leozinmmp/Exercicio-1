{
  "nbformat": 4,
  "nbformat_minor": 0,
  "metadata": {
    "colab": {
      "provenance": [],
      "authorship_tag": "ABX9TyN5gsGHBN33EuxeeO9yL6is",
      "include_colab_link": true
    },
    "kernelspec": {
      "name": "python3",
      "display_name": "Python 3"
    },
    "language_info": {
      "name": "python"
    }
  },
  "cells": [
    {
      "cell_type": "markdown",
      "metadata": {
        "id": "view-in-github",
        "colab_type": "text"
      },
      "source": [
        "<a href=\"https://colab.research.google.com/github/Leozinmmp/Exercicio-1/blob/main/Untitled2.ipynb\" target=\"_parent\"><img src=\"https://colab.research.google.com/assets/colab-badge.svg\" alt=\"Open In Colab\"/></a>"
      ]
    },
    {
      "cell_type": "code",
      "execution_count": null,
      "metadata": {
        "id": "TrmJ1OHSMSnv"
      },
      "outputs": [],
      "source": [
        "numero1 = float(input(\"Digite o primeiro número: \"))\n",
        "numero2 = float(input(\"Digite o segundo número: \"))\n",
        "print(\"Escolha a operação que deseja realizar:\")\n",
        "print(\"1. Adição (+)\")\n",
        "print(\"2. Subtração (-)\")\n",
        "print(\"3. Multiplicação (*)\")\n",
        "print(\"4. Divisão (/)\")\n",
        "Calculo = input(\"Digite o número correspondente à operação: \")\n",
        "if operacao == '1':\n",
        "        resultado = num1 + num2\n",
        "        print(f\"O resultado da adição é: {resultado}\")\n",
        "elif operacao == '2':\n",
        "        resultado = num1 - num2\n",
        "        print(f\"O resultado da subtração é: {resultado}\")\n",
        "elif operacao == '3':\n",
        "        resultado = num1 * num2\n",
        "        print(f\"O resultado da multiplicação é: {resultado}\")\n",
        "elif operacao == '4':\n",
        "  if num2 != 0:\n",
        "            resultado = num1 / num2\n",
        "            print(f\"O resultado da divisão é: {resultado}\")\n",
        "else:\n",
        "            print(\"Erro: Divisão por zero não é permitida.\")\n"
      ]
    }
  ]
}